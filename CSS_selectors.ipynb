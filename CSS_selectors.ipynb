{
 "cells": [
  {
   "cell_type": "markdown",
   "id": "e6899191",
   "metadata": {},
   "source": [
    "# CSS SELECTORS"
   ]
  },
  {
   "cell_type": "markdown",
   "id": "46c3cc37",
   "metadata": {},
   "source": [
    "CSS selectors are used to \"find\" (or select) the HTML elements you want to style.\n",
    "\n",
    "We can divide CSS selectors into five categories:\n",
    "\n",
    "- Simple selectors (select elements based on name, id, class)\n",
    "- Combinator selectors (select elements based on a specific relationship between them)\n",
    "- Pseudo-class selectors (select elements based on a certain state)\n",
    "- Pseudo-elements selectors (select and style a part of an element)\n",
    "- Attribute selectors (select elements based on an attribute or attribute value)"
   ]
  },
  {
   "cell_type": "markdown",
   "id": "10796927",
   "metadata": {},
   "source": [
    "## BASIC SELECTORS"
   ]
  },
  {
   "cell_type": "markdown",
   "id": "dd6ca534",
   "metadata": {},
   "source": [
    "**The CSS element Selector**\n",
    "\n",
    "The element selector selects HTML elements based on the element name.\n",
    "\n",
    "Example\n",
    "Here, all < p > elements on the page will be center-aligned, with a red text color:     "
   ]
  },
  {
   "cell_type": "raw",
   "id": "d633eb34",
   "metadata": {},
   "source": [
    "\n",
    "p {\n",
    "  text-align: center;\n",
    "  color: red;\n",
    "}"
   ]
  },
  {
   "cell_type": "markdown",
   "id": "86b538a2",
   "metadata": {},
   "source": [
    "**The CSS id Selector**\n",
    "\n",
    "The id selector uses the id attribute of an HTML element to select a specific element.\n",
    "\n",
    "The id of an element is unique within a page, so the id selector is used to select one unique element.\n",
    "\n",
    "To select an element with a specific id, write a hash (#) character, followed by the id of the element.\n",
    "_An id name cannot start with a number!_"
   ]
  },
  {
   "cell_type": "raw",
   "id": "5005b03d",
   "metadata": {},
   "source": [
    "#para1 {\n",
    "  text-align: center;\n",
    "  color: red;\n",
    "}"
   ]
  },
  {
   "cell_type": "markdown",
   "id": "d387438f",
   "metadata": {},
   "source": [
    "**The CSS class Selector**\n",
    "\n",
    "The class selector selects HTML elements with a specific class attribute.\n",
    "\n",
    "To select elements with a specific class, write a period (.) character, followed by the class name."
   ]
  },
  {
   "cell_type": "raw",
   "id": "020463db",
   "metadata": {},
   "source": [
    ".center {\n",
    "  text-align: center;\n",
    "  color: red;\n",
    "}"
   ]
  },
  {
   "cell_type": "markdown",
   "id": "07b4bd14",
   "metadata": {},
   "source": [
    "You can also specify that only specific HTML elements should be affected by a class.\n",
    "\n",
    "In this example only < p > elements with class=\"center\" will be red and center-aligned: "
   ]
  },
  {
   "cell_type": "raw",
   "id": "0945aef0",
   "metadata": {},
   "source": [
    "p.center {\n",
    "  text-align: center;\n",
    "  color: red;\n",
    "}"
   ]
  },
  {
   "cell_type": "markdown",
   "id": "2598fe62",
   "metadata": {},
   "source": [
    "HTML elements can also refer to more than one class.\n",
    "\n",
    "In this example the < p > element will be styled according to class=\"center\" and to class=\"large\": "
   ]
  },
  {
   "cell_type": "raw",
   "id": "aa6668c9",
   "metadata": {},
   "source": [
    "<p class=\"center large\">This paragraph refers to two classes.</p>"
   ]
  },
  {
   "cell_type": "markdown",
   "id": "ac31175f",
   "metadata": {},
   "source": [
    "**The CSS Universal Selector**\n",
    "\n",
    "The universal selector (*) selects all HTML elements on the page.\n",
    "\n",
    "**The CSS Grouping Selector**\n",
    "\n",
    "The grouping selector selects all the HTML elements with the same style definitions. For example, if we have h1, h2, and p elements with the same style definitions it'll be better to group them to minimize the code. You can do that by separating them with a comma:"
   ]
  },
  {
   "cell_type": "raw",
   "id": "c479eeee",
   "metadata": {},
   "source": [
    "h1, h2, p {\n",
    "  text-align: center;\n",
    "  color: red;\n",
    "}"
   ]
  },
  {
   "cell_type": "markdown",
   "id": "9c42e092",
   "metadata": {},
   "source": [
    "## Child Selectors"
   ]
  },
  {
   "cell_type": "markdown",
   "id": "8269d41f",
   "metadata": {},
   "source": [
    "**Descendant Selector**\n",
    "\n",
    "The most common child selector is the _descendant selector_, which matches every element that follows an identified ancestor. The descendant element does not have to come directly after the ancestor element inside the document tree, such as a parent-child relationship, but may fall anywhere within the ancestor element. Descendant selectors are created by spacing apart elements within a selector, creating a new level of hierarchy for each element list.\n",
    "\n",
    "In the example the _article h2_ selector is a descendant selector, only selecting h2 elements that fall inside of an article element. Notice, no matter where a h2 element lives, so long as it is within the article element, it will always be selected. Additionally, any h2 element outside of the article element is not selected.\n",
    "\n",
    "Below, the headings on lines 3 and 5 are selected."
   ]
  },
  {
   "cell_type": "raw",
   "id": "2a7d1016",
   "metadata": {},
   "source": [
    "CSS\n",
    "1 article h2 {...}\n",
    "              \n",
    "HTML\n",
    "1<h2>...</h2>\n",
    "2<article>\n",
    "3<h2>This heading will be selected</h2>\n",
    "4<div>\n",
    "5<h2>This heading will be selected</h2>\n",
    "6</div>\n",
    "7</article>"
   ]
  },
  {
   "cell_type": "markdown",
   "id": "f105d565",
   "metadata": {},
   "source": [
    "**Direct Child Selector**\n",
    "\n",
    "Sometimes descendant selectors go a bit overboard, selecting more than hoped. At times only the direct children of a parent element need to be selected, not every instance of the element nested deeply inside of an ancestor. In this event the direct child selector may be used by placing a greater than sign, >, between the parent element and child element within the selector.\n",
    "\n",
    "For example, article > p is a direct child selector only identifying p elements that fall directly within an article element. Any p element placed outside of an article element, or nested inside of another element other than the article element, will not be selected.\n",
    "\n",
    "Below, the paragraph on line 3 is the only direct child of its parent article, thus selected."
   ]
  },
  {
   "cell_type": "raw",
   "id": "946dcd82",
   "metadata": {},
   "source": [
    "CSS\n",
    "1 article > p {...}\n",
    "\n",
    "HTML\n",
    "1 <p>...</p>\n",
    "2 <article>\n",
    "3 \t<p>This paragraph will be selected</p>\n",
    "4\t<div>\n",
    "5\t\t<p>...</p>\n",
    "6\n",
    "7\t</div>\n",
    "8\t</article>"
   ]
  },
  {
   "cell_type": "markdown",
   "id": "7a2b154a",
   "metadata": {},
   "source": [
    "**Sibling Selectors**\n",
    "\n",
    "Knowing how to select children of an element is largely beneficial, and quite commonly seen. However sibling elements, those elements that share a common parent, may also need to be selected. These sibling selections can be made by way of the general sibling and adjacent sibling selectors.\n",
    "\n",
    "**General Sibling Selector**\n",
    "\n",
    "The general sibling selector allow elements to be selected based on their sibling elements, those which share the same common parent. They are created by using the tilde character, ~, between two elements within a selector. The first element identifies what the second element shall be a sibling with, and both of which must share the same parent.\n",
    "\n",
    "The h2 ~ p selector is a general sibling selector that looks for p elements that follow, and share the same parent, of any h2 elements. In order for a p element to be selected it must come after any h2 element.\n",
    "\n",
    "The paragraphs on lines 5 and 9 are selected as they come after the heading within the document tree and share the same parent as their sibling heading."
   ]
  },
  {
   "cell_type": "raw",
   "id": "067fc567",
   "metadata": {},
   "source": [
    "CSS\n",
    "1 h2 ~ p {...}\n",
    "\n",
    "HTML\n",
    "1 <p>...</p>\n",
    "2 <section>\n",
    "3    <p>...</p>\n",
    "4    <h2>...</h2>\n",
    "5    <p>This paragraph will be selected</p>\n",
    "6    <div>\n",
    "7      <p>...</p>\n",
    "8    </div>\n",
    "9    This paragraph will be selected\n",
    "10</section>"
   ]
  },
  {
   "cell_type": "markdown",
   "id": "84bc2276",
   "metadata": {},
   "source": [
    "**Adjacent Sibling Selector**\n",
    "\n",
    "Occasionally a little more control may be desired, including the ability to select a _sibling element that directly follows after another sibling element_, which is where the adjacent sibling element comes in. The adjacent sibling selector will only select sibling elements directly following after another sibling element. Instead of using the tilde character, as with general sibling selectors, the adjacent sibling selector uses a plus character, +, between the two elements within a selector. Again, the first element identifies what the second element shall directly follow after and be a sibling with, and both of which must share the same parent.\n",
    "\n",
    "Looking at the adjacent sibling selector h2 + p only p elements directly following after h2 elements will be selected. Both of which must also share the same parent element.\n",
    "\n",
    "The paragraph on line 5 is selected as it directly follows after its sibling heading along with sharing the same parent element, thus selected."
   ]
  },
  {
   "cell_type": "raw",
   "id": "27250879",
   "metadata": {},
   "source": [
    "CSS\n",
    "h2+p {...}\n",
    "\n",
    "HTML\n",
    "1 <p>...</p>\n",
    "2 <section>\n",
    "3   <p>...</p>\n",
    "4   <h2>...</h2>\n",
    "5   <p>This paragraph will be selected</p>\n",
    "6   <div>\n",
    "7     <p>...</p>\n",
    "8   </div>\n",
    "9   <p>...</p>\n",
    "10 </section>"
   ]
  },
  {
   "cell_type": "markdown",
   "id": "4866c20e",
   "metadata": {},
   "source": [
    "## Attribute Selectors"
   ]
  },
  {
   "cell_type": "markdown",
   "id": "d2f6a9c3",
   "metadata": {},
   "source": [
    "Some of the common selectors looked at early may also be defined as _attribute selectors_, in which an element is selected based upon its class or ID value. These class and ID attribute selectors are widely used and extremely powerful but only the beginning. Other attribute selectors have emerged over the years, specifically taking a large leap forward with CSS3. Now elements can be selected based on whether an attribute is present and what its value may contain.\n",
    "\n",
    "**Attribute Present Selector**\n",
    "\n",
    "The first attribute selector identifies an element based on whether it includes an attribute or not, regardless of any actual value. To select an element based on if an attribute is present or not, include the attribute name in square brackets, within a selector. The square brackets may or may not follow any qualifier such as an element type or class, all depending on the level of specificity desired."
   ]
  },
  {
   "cell_type": "raw",
   "id": "f64a28bb",
   "metadata": {},
   "source": [
    "CSS\n",
    "a[target] {...}\n",
    "\n",
    "              \n",
    "HTML\n",
    "<a href=\"#\" target=\"_blank\">...</a>"
   ]
  },
  {
   "cell_type": "markdown",
   "id": "c7d35cbf",
   "metadata": {},
   "source": [
    "**Attribute Equals Selector**\n",
    "\n",
    "To identify an element with a specific, and exact matching, attribute value the same selector from before may be used, however this time inside of the square brackets following the attribute name, include the desired matching value. Inside the square brackets should be the attribute name followed by an equals sign, =, quotations, \"\", and inside of the quotations should be the desired matching attribute value."
   ]
  },
  {
   "cell_type": "raw",
   "id": "bab50374",
   "metadata": {},
   "source": [
    "CSS\n",
    "a[href=\"http://google.com/\"] {...}\n",
    "\n",
    "              \n",
    "HTML\n",
    "<a href=\"http://google.com/\">...</a>"
   ]
  },
  {
   "cell_type": "markdown",
   "id": "d871e915",
   "metadata": {},
   "source": [
    "**Attribute Contains Selector**\n",
    "\n",
    "When looking to find an element based on part of an attribute value, but not an exact match, the asterisk character, *, may be used within the square brackets of a selector. The asterisk should fall just after the attribute name, directly before the equals sign. Doing so denotes that the value to follow only needs to appear, or be contained, within the attribute value."
   ]
  },
  {
   "cell_type": "raw",
   "id": "19d03ccd",
   "metadata": {},
   "source": [
    "CSS\n",
    "a[href*=\"login\"] {...}\n",
    "             \n",
    "HTML\n",
    "<a href=\"/login.php\">...</a>"
   ]
  },
  {
   "cell_type": "markdown",
   "id": "0edbdb9d",
   "metadata": {},
   "source": [
    "**Attribute Begins With Selector**\n",
    "\n",
    "In addition to selecting an element based on if an attribute value contains a stated value, it is also possible to select an element based on what an attribute value begins with. Using a circumflex accent, ^, within the square brackets of a selector between the attribute name and equals sign denotes that the attribute value should begin with the stated value."
   ]
  },
  {
   "cell_type": "raw",
   "id": "bbf86378",
   "metadata": {},
   "source": [
    "CSS\n",
    "a[href^=\"https://\"] {...}\n",
    "\n",
    "              \n",
    "HTML\n",
    "<a href=\"https://chase.com/\">...</a>"
   ]
  },
  {
   "cell_type": "markdown",
   "id": "caf3b3b6",
   "metadata": {},
   "source": [
    "**Attribute Ends With Selector**\n",
    "\n",
    "Opposite of the begins with selector, there is also an ends with attribute selector. Instead of using the circumflex accent, the ends with attribute selector uses the dollar sign, $, within the square brackets of a selector between the attribute name and equals sign. Using the dollar sign denotes that the attribute value needs to end with the stated value."
   ]
  },
  {
   "cell_type": "raw",
   "id": "d12c82b9",
   "metadata": {},
   "source": [
    "CSS\n",
    "a[href$=\".pdf\"] {...}\n",
    "\n",
    "              \n",
    "HTML\n",
    "<a href=\"/docs/menu.pdf\">...</a>"
   ]
  },
  {
   "cell_type": "markdown",
   "id": "15e5a646",
   "metadata": {},
   "source": [
    "**Attribute Spaced Selector**\n",
    "\n",
    "At times attribute values may be spaced apart, in which only one of the words needs to be matched in order to make a selection. In this event using the tilde character, ~, within the square brackets of a selector between the attribute name and equals sign denotes an attribute value that should be whitespace-separated, with one word matching the exact stated value."
   ]
  },
  {
   "cell_type": "raw",
   "id": "dd7af41a",
   "metadata": {},
   "source": [
    "CSS\n",
    "a[rel~=\"tag\"] {...}\n",
    "\n",
    "              \n",
    "HTML\n",
    "<a href=\"#\" rel=\"tag nofollow\">...</a>"
   ]
  },
  {
   "cell_type": "markdown",
   "id": "4dcfdf8e",
   "metadata": {},
   "source": [
    "**Attribute Hyphenated Selector**\n",
    "\n",
    "When an attribute value is hyphen-separated, rather than whitespace-separated, the vertical line character, |, may be used within the square brackets of a selector between the attribute name and equals sign. The vertical line denotes that the attribute value may be hyphen-separated however the hyphen-separated words must begin with the stated value."
   ]
  },
  {
   "cell_type": "raw",
   "id": "f138d8a5",
   "metadata": {},
   "source": [
    "CSS\n",
    "a[lang|=\"en\"] {...}\n",
    "\n",
    "              \n",
    "HTML\n",
    "<a href=\"#\" lang=\"en-US\">...</a>"
   ]
  },
  {
   "cell_type": "markdown",
   "id": "bc5328d6",
   "metadata": {},
   "source": [
    "## Pseudo-classes\n",
    "\n",
    "Pseudo-classes are similar to regular classes in HTML however they are not directly stated within the markup, instead they are dynamically populated as a result of users’ actions or the document structure. The most common pseudo-class, and one you’ve likely seen before, is :hover. Notice how this pseudo-class begins with the colon character, :, as will all other pseudo-classes.\n",
    "<p style=color:red>Una pseudo-classe non definisce la presentazione di un elemento ma di un particolare stato di quest'ultimo. In buona sostanza, grazie alle pseudo-classi possiamo impostare uno stile per un elemento al verificarsi di certe condizioni.</p>\n",
    "\n",
    "**Pseudo-Class Syntax**\n",
    "\n",
    "The syntax for pseudo-classes uses a colon (:) followed by the pseudo-class name:"
   ]
  },
  {
   "cell_type": "raw",
   "id": "eacc5d0d",
   "metadata": {},
   "source": [
    ":pseudo-class {}"
   ]
  },
  {
   "cell_type": "markdown",
   "id": "8ea313d7",
   "metadata": {},
   "source": [
    "If you want to target a specific element (e), you append that element to the beginning of the pseudo-class syntax:"
   ]
  },
  {
   "cell_type": "raw",
   "id": "c649c6c6",
   "metadata": {},
   "source": [
    "e:pseudo-class {}"
   ]
  },
  {
   "cell_type": "markdown",
   "id": "2883e38d",
   "metadata": {},
   "source": [
    "You can even use pseudo-classes alongside id and class selectors, as you see here:"
   ]
  },
  {
   "cell_type": "raw",
   "id": "d7b8931b",
   "metadata": {},
   "source": [
    "#id:pseudo-class {} .class:pseudo-class {}"
   ]
  },
  {
   "cell_type": "markdown",
   "id": "0af7e1d4",
   "metadata": {},
   "source": [
    "**:root**\n",
    "\n",
    "The :root pseudo-class targets the root element—the html element. Consider the following basic markup for a page:"
   ]
  },
  {
   "cell_type": "markdown",
   "id": "44681c0f",
   "metadata": {},
   "source": [
    "**Link Pseudo-classes**\n",
    "\n",
    "Some of the more basic pseudo-classes include two revolving around links specifically. The :link and :visited pseudo-classes define if a link has or hasn’t been visited. To style an anchor which has not been visited the :link pseudo-class comes into play, where the :visited pseudo-class styles links that a user has already visited based on their browsing history."
   ]
  },
  {
   "cell_type": "raw",
   "id": "1a486d9a",
   "metadata": {},
   "source": [
    "a:link {...}\n",
    "a:visited {...}   "
   ]
  },
  {
   "cell_type": "markdown",
   "id": "a768cc1c",
   "metadata": {},
   "source": [
    "**User Action (Dynamic) Pseudo-classes**\n",
    "\n",
    "Based on a users’ actions different pseudo-classes may be dynamically applied to an element, of which include the :hover, :active, and :focus pseudo-classes. The :hover pseudo-class is applied to an element when a user moves their cursor over the element, most commonly used with anchor elements. The :active pseudo-class is applied to an element when a user engages an element, such as clicking on an element. Lastly, the :focus pseudo-class is applied to an element when a user has made an element the focus point of the page, often by using the keyboard to tab from one element to another."
   ]
  },
  {
   "cell_type": "raw",
   "id": "0437fde3",
   "metadata": {},
   "source": [
    "a:hover {...}\n",
    "a:active {...}\n",
    "a:focus {...}     "
   ]
  },
  {
   "cell_type": "markdown",
   "id": "d1c48be7",
   "metadata": {},
   "source": [
    "**User Interface State Pseudo-classes**\n",
    "\n",
    "As with the link pseudo-classes there are also some pseudo-classes generated around the user interface state of elements, particularly within form elements. These user interface element state pseudo-classes include :enabled, :disabled, :checked, and :indeterminate.\n",
    "\n",
    "The :enabled pseudo-class selects an input that is in the default state of enabled and available for use, where the :disabled pseudo-class selects an input that has the disabled attribute tied to it. Many browsers by default will fade out disabled inputs to inform users that the input is not available for interaction, however those styles may be adjusted as wished with the :disabled pseudo-class."
   ]
  },
  {
   "cell_type": "raw",
   "id": "1ebc7c5e",
   "metadata": {},
   "source": [
    "input:enabled {...}\n",
    "input:disabled {...}              "
   ]
  },
  {
   "cell_type": "markdown",
   "id": "79140a85",
   "metadata": {},
   "source": [
    "The last two user interface element state pseudo-classes of :checked and :indeterminate revolve around checkbox and radio button input elements. The :checked pseudo-class selects checkboxes or radio buttons that are, as you may expect, checked. When a checkbox or radio button has neither been selected nor unselected it lives in an indeterminate state, from which the :indeterminate pseudo-class can be used to target these elements."
   ]
  },
  {
   "cell_type": "raw",
   "id": "8b8d1400",
   "metadata": {},
   "source": [
    "input:checked {...}\n",
    "input:indeterminate {...}"
   ]
  },
  {
   "cell_type": "markdown",
   "id": "121c0374",
   "metadata": {},
   "source": [
    "**Structural & Position Pseudo-classes**\n",
    "\n",
    "A handful of pseudo-classes are structural and position based, in which they are determined based off where elements reside in the document tree. These structural and position based pseudo-classes come in a few different shapes and sizes, each of which provides their own unique function.\n",
    "\n",
    "**:first-child, :last-child, & :only-child**\n",
    "\n",
    "The first structural and position based pseudo-classes one is likely to come across are the :first-child, :last-child, and :only-child pseudo-classes. The :first-child pseudo-class will select an element if it’s the first child within its parent, while the :last-child pseudo-class will select an element if it’s the last element within its parent. These pseudo-classes are perfect for selecting the first or last items in a list and so forth. Additionally, the :only-child will select an element if it is the only element within a parent. Alternately, the :only-child pseudo-class could be written as :first-child:last-child, however :only-child holds a lower specificity.\n",
    "\n",
    "Here the selector li:first-child identifies the first list item within a list, while the selector li:last-child identifies the last list item within a list, thus lines 2 and 10 are selected. The selector div:only-child is looking for a division which is the single child of a parent element, without any other other siblings. In this case line 4 is selected as it is the only division within the specific list item."
   ]
  },
  {
   "cell_type": "raw",
   "id": "33dc8567",
   "metadata": {},
   "source": [
    "CSS\n",
    "1 li:first-child {...}\n",
    "2 li:last-child {...}\n",
    "3 div:only-child {...}\n",
    "\n",
    "HTML\n",
    "1 <ul>\n",
    "2   <li>This list item will be selected</li>\n",
    "3   <li>\n",
    "4     <div>This div will be selected</div>\n",
    "5   </li>\n",
    "6   <li>\n",
    "7     <div>...</div>\n",
    "8     <div>...</div>\n",
    "9   </li>\n",
    "10  <li>This list item will be selected</li>\n",
    "11 </ul>\n"
   ]
  },
  {
   "cell_type": "markdown",
   "id": "75d4ab82",
   "metadata": {},
   "source": [
    "**:first-of-type, :last-of-type, & :only-of-type**\n",
    "\n",
    "Finding the first, last, and only children of a parent is pretty helpful, and often all that is needed. However sometimes you only want to select the first, last, or only child of a specific type of element. For example, should you only want to select the first or last paragraph within an article, or perhaps the only image within an article. Fortunately this is where the :first-of-type, :last-of-type, and :only-of-type pseudo-selectors come into place.\n",
    "\n",
    "The :first-of-type pseudo-class will select the first element of its type within a parent, while the :last-of-type pseudo-class will select the last element of its type within a parent. The :only-of-type pseudo-class will select an element if it is the only of its type within a parent.\n",
    "\n",
    "In the example below the p:first-of-type and p:last-of-type pseudo-classes select the first and last paragraphs within the article respectively, regardless if they are actually the first or last children within the article. Lines 3 and 6 are selected, reflecting these selectors. The img:only-of-type selector identifies the image on line 5 as it is the only image to appear within the article, thus also selected."
   ]
  },
  {
   "cell_type": "raw",
   "id": "a049a9b0",
   "metadata": {},
   "source": [
    "CSS\n",
    "1 p:first-of-type {...}\n",
    "2 p:last-of-type {...}\n",
    "3 img:only-of-type {...}\n",
    "\n",
    "HTML:\n",
    "1 <article>\n",
    "2   <h1>...</h1>\n",
    "3   <p>This paragraph will be selected</p>\n",
    "4   <p>...</p>\n",
    "5   <img src=\"#\"><!-- This image will be selected -->\n",
    "6   <p>This paragraph will be selected</p>\n",
    "7   <h6>...</h6>\n",
    "8 </article>\n"
   ]
  },
  {
   "cell_type": "markdown",
   "id": "f2586ea1",
   "metadata": {},
   "source": [
    "**:nth-child(n), :nth-last-child(n), :nth-of-type(n), and :nth-last-of-type(n)**\n",
    "\n",
    "Lastly there are a few structural and position based pseudo-classes that select elements based on a number or an algebraic expression. These pseudo-classes include :nth-child(n), :nth-last-child(n), :nth-of-type(n), and :nth-last-of-type(n). All of these unique pseudo-classes are prefixed with nth and accept a number or expression inside of the parenthesis, indicated by the character n argument.\n",
    "\n",
    "The number or expression that falls within the parenthesis determines exactly what element, or elements, are to be selected. Using a number outright will count individual elements from the beginning or end of the document tree and then select one element, while using an expression will count numerous elements from the beginning or end of the document tree and select them in groups or multiples.\n",
    "\n",
    "Expressions for pseudo-classes fall in the format of an, an+b, an-b, n+b, -n+b, and -an+b. The same expression may be translated and read as (a×n)±b. The a variable stands for the multiplier in which elements will be counted in while the b variable stands for where the counting will begin or take place.\n",
    "\n",
    "For example, the li:nth-child(3n) selector will identify every third list item within a list. Using the expression this equates to 3×0, 3×1, 3×2, and so forth. As you can see the results of this expression lead to the third, sixth, and every element a multiple of three being selected.The li:nth-child(2n+3) selector, for example, will identify every second list item starting with the third and then onward. As a result, the list items lines 4 and 6 are selected. li:nth-child(-n+4) selector is identifying the top four list items, leaving the rest of the list items unselected, thus lines 2 through 5 are selected. The :nth-last-child(n) pseudo-class switches the direction of counting, with counting starting from the end of the document tree using the :nth-last-child(n) pseudo-class.\n",
    "\n",
    "The :nth-of-type(n) and :nth-last-of-type(n) pseudo-classes are very similar to that of the :nth-child(n) and :nth-last-child(n) pseudo-classes, however instead of counting every element within a parent the :nth-of-type(n) and :nth-last-of-type(n) pseudo-classes only count elements of their own type. \n",
    "\n",
    "(cont'd here: [https://learn.shayhowe.com/advanced-html-css/complex-selectors/]\n",
    "\n"
   ]
  },
  {
   "cell_type": "markdown",
   "id": "150f9bca",
   "metadata": {},
   "source": [
    "**Target Pseudo-class**\n",
    "\n",
    "The :target pseudo-class is used to style elements when an element’s ID attribute value matches that of the URI fragment identifier. The fragment identifier within a URI can be recognized by the hash character, #, and what directly follows it. The URL http://example.com/index.html#hello includes the fragment identifier of hello. When this identifier matches the ID attribute value of an element on the page, <section id=\"hello\"> for example, that element may be identified and stylized using the :target pseudo-class. Fragment identifiers are most commonly seen when using on page links, or linking to another part of the same page.\n",
    "\n",
    "Looking at the code below, if a user would visit a page with the URI fragment identifier of #hello, the section with that same ID attribute value would be stylized accordingly using the :target pseudo-class. If the URI fragment identifier changes, and matches the ID attribute value of another section, that new section may be stylized using the same selector and pseudo-class from before."
   ]
  },
  {
   "cell_type": "markdown",
   "id": "e32f212e",
   "metadata": {},
   "source": [
    "**Empty Pseudo-class**\n",
    "\n",
    "The :empty pseudo-class allows elements that do not contain children or text nodes to be selected. Comments, processing instructions, and empty text nodes are not considered children and are not treated as such.\n",
    "\n",
    "Using the div:empty pseudo-class will identify divisions without any children or text nodes. Below the divisions on lines 2 and 3 are selected, as they are completely empty. Even though the second division contains a comment, it is not considered to be a child, thus leaving the division empty. The first division contains text, the fourth division contains one blank text space, and the last division contains a strong child element, thus they are all ruled out and are not selected."
   ]
  },
  {
   "cell_type": "raw",
   "id": "27639cd6",
   "metadata": {},
   "source": [
    "CSS\n",
    "\n",
    "1 div:empty {...}\n",
    "html\n",
    "\n",
    "1 <div>Hello</div>\n",
    "2 <div><!-- Coming soon --></div><!-- This div will be selected -->\n",
    "3 <div></div><!-- This div will be selected -->\n",
    "4 <div> </div>\n",
    "5 <div><strong></strong></div>"
   ]
  },
  {
   "cell_type": "markdown",
   "id": "9815c10f",
   "metadata": {},
   "source": [
    "**Negation Pseudo-class**\n",
    "\n",
    "The negation pseudo-class, :not(x), is a pseudo-class that takes an argument which is filtered out from the selection to be made. The p:not(.intro) selector uses the negation pseudo-class to identify every paragraph element without the class of intro. The paragraph element is identified at the beginning of the selector followed by the :not(x) pseudo-class. Inside of the parentheses falls the negation selector, the class of .intro in this case.\n",
    "\n",
    "Below, both the div:not(.awesome) and :not(div) selectors use the :not(x) pseudo-class. The div:not(.awesome) selector identifies any division without the class of awesome, while the :not(div) selector identifies any element that isn’t a division. As a result the, division on line 1 is selected, as well as the two sections on lines 3 and 4, thus they are marked bold. The only element not selected is the division with the class of awesome, as it falls outside of the two negation pseudo-classes."
   ]
  },
  {
   "cell_type": "raw",
   "id": "d1e08ca2",
   "metadata": {},
   "source": [
    "CSS\n",
    "div:not(.awesome) {...}\n",
    ":not(div) {...}\n",
    "\n",
    "HTML\n",
    "1 <div>This div will be selected</div>\n",
    "2 <div class=\"awesome\">...</div>\n",
    "3 <section>This section will be selected</section>\n",
    "4 <section class=\"awesome\">This section will be selected</section>"
   ]
  },
  {
   "cell_type": "markdown",
   "id": "41f1758f",
   "metadata": {},
   "source": [
    "## Pseudo-elements\n",
    "\n",
    "Pseudo-elements are dynamic elements that don’t exist in the document tree, and when used within selectors these pseudo-elements allow unique parts of the page to be stylized. One important point to note, only one pseudo-element may be used within a selector at a given time.\n",
    "\n",
    "**Textual Pseudo-elements**\n",
    "\n",
    "The first pseudo-elements ever released were the :first-letter and :first-line textual pseudo-elements. The :first-letter pseudo-element will identify the first letter of text within an element, while the :first-line pseudo-element will identify the first line of text within an element.\n",
    "\n",
    "In the demonstration below the first letter of the paragraph with the class of alpha is set in a larger font size and colored orange, as is the first line of the paragraph with the class of bravo. These selections are made by use of the :first-letter and :first-line textual pseudo-elements respectively."
   ]
  },
  {
   "cell_type": "raw",
   "id": "c44f0982",
   "metadata": {},
   "source": [
    "CSS\n",
    ".alpha:first-letter,\n",
    ".bravo:first-line {\n",
    "  color: #ff7b29;\n",
    "  font-size: 18px;\n",
    "}\n",
    "\n",
    "              \n",
    "HTML\n",
    "<p class=\"alpha\">Lorem ipsum dolor...</p>\n",
    "<p class=\"bravo\">Integer eget enim...</p>"
   ]
  },
  {
   "attachments": {
    "2023-05-10%2015.23.55%20learn.shayhowe.com%2043dc0bc51d3c.jpg": {
     "image/jpeg": "[encoded data removed]"
    }
   },
   "cell_type": "markdown",
   "id": "822a834e",
   "metadata": {},
   "source": [
    "![2023-05-10%2015.23.55%20learn.shayhowe.com%2043dc0bc51d3c.jpg](attachment:2023-05-10%2015.23.55%20learn.shayhowe.com%2043dc0bc51d3c.jpg)"
   ]
  },
  {
   "cell_type": "markdown",
   "id": "dd3328c6",
   "metadata": {},
   "source": [
    "**Generated Content Pseudo-elements**\n",
    "\n",
    "The :before and :after generated content pseudo-elements create new inline level pseudo-elements just inside the selected element. Most commonly these pseudo-elements are used in conjunction with the content property to add insignificant information to a page, however that is not always the case. Additional uses of these psuedo-elements may be to add user interface components to the page without having to clutter the document with unsemantic elements.\n",
    "\n",
    "The :before pseudo-element creates a pseudo-element before, or in front of, the selected element, while the :after pseudo-element creates a pseudo-element after, or behind, the selected element. These pseudo-elements appear nested within the selected element, not outside of it. Below the :after pseudo-element is used to display the href attribute value of anchor links within parentheses after the actual links. The information here is helpful, but not ultimately necessary should a browser not support these pseudo-elements."
   ]
  },
  {
   "cell_type": "raw",
   "id": "7925dfbc",
   "metadata": {},
   "source": [
    "CSS\n",
    "a:after {\n",
    "  color: #9799a7;\n",
    "  content: \" (\" attr(href) \")\";\n",
    "  font-size: 11px;\n",
    "}\n",
    "\n",
    "              \n",
    "HTML\n",
    "<a href=\"http://google.com/\">Search the Web</a>\n",
    "<a href=\"http://learn.shayhowe.com/\">Learn How to Build Websites</a>"
   ]
  },
  {
   "attachments": {
    "2023-05-10%2015.27.31%20learn.shayhowe.com%2064888d266c1a.jpg": {
     "image/jpeg": "[encoded data removed]"
    }
   },
   "cell_type": "markdown",
   "id": "61bc9d19",
   "metadata": {},
   "source": [
    "![2023-05-10%2015.27.31%20learn.shayhowe.com%2064888d266c1a.jpg](attachment:2023-05-10%2015.27.31%20learn.shayhowe.com%2064888d266c1a.jpg)"
   ]
  },
  {
   "cell_type": "markdown",
   "id": "ce74a339",
   "metadata": {},
   "source": [
    "**Fragment Pseudo-element**\n",
    "\n",
    "The ::selection fragment pseudo-element identifies part of the document that has been selected, or highlighted, by a user’s actions. The selection may then be stylized, however only using the color, background, background-color, and text-shadow properties. It is worth noting, the background-image property is ignore. While the shorthand background property may be used to add a color, any images will be ignored.\n",
    "\n",
    "_Single Colon (:) versus Double Colons (::)_\n",
    "The fragment pseudo-element was added with CSS3 and in attempt to differentiate pseudo-classes from pseudo-elements the double colons were added to pseudo-elements. Fortunately most browsers will support both values, single or double colons, for pseudo-elements however the ::selection pseudo-element must always start with double colons.\n",
    "\n",
    "When selecting any of the text within the demonstration below the background will appear orange and any text shadows will be removed thanks to the ::selection fragment pseudo-element. Also note, the ::-moz-selection Mozilla prefixed fragment pseudo-element has been added to ensure the best support for all browsers."
   ]
  },
  {
   "cell_type": "raw",
   "id": "b38ad0ee",
   "metadata": {},
   "source": [
    "::-moz-selection {\n",
    "    background: #ff7b29;\n",
    "}\n",
    "::selection {\n",
    "  background: #ff7b29;\n",
    "}"
   ]
  }
 ],
 "metadata": {
  "kernelspec": {
   "display_name": "Python 3 (ipykernel)",
   "language": "python",
   "name": "python3"
  },
  "language_info": {
   "codemirror_mode": {
    "name": "ipython",
    "version": 3
   },
   "file_extension": ".py",
   "mimetype": "text/x-python",
   "name": "python",
   "nbconvert_exporter": "python",
   "pygments_lexer": "ipython3",
   "version": "3.9.16"
  }
 },
 "nbformat": 4,
 "nbformat_minor": 5
}
